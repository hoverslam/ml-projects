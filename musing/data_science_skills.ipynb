{
 "cells": [
  {
   "cell_type": "code",
   "execution_count": 1,
   "metadata": {},
   "outputs": [],
   "source": [
    "import requests\n",
    "import matplotlib.pyplot as plt\n",
    "from bs4 import BeautifulSoup\n",
    "\n",
    "import logging\n",
    "from linkedin_jobs_scraper import LinkedinScraper\n",
    "from linkedin_jobs_scraper.events import Events, EventData\n",
    "from linkedin_jobs_scraper.query import Query, QueryOptions, QueryFilters\n",
    "from linkedin_jobs_scraper.filters import RelevanceFilters, TypeFilters"
   ]
  },
  {
   "cell_type": "markdown",
   "metadata": {},
   "source": [
    "# Data Science skills\n",
    "\n",
    "How to identifiy the most in-demand skills for a data scientist? \n",
    "\n",
    "To answer this question I looked at the job postings on *LinkedIn* with vacant positions for data scientists in Austria. The job description was searched for the following terms:\n",
    "* Python\n",
    "* R\n",
    "* SQL\n",
    "* noSQL\n",
    "* Excel\n",
    "* Power BI\n",
    "* Tableau\n",
    "* TensorFlow\n",
    "* PyTorch\n",
    "* Spark\n",
    "* Hadoop\n",
    "* AWS\n",
    "* Azure\n",
    "\n",
    "Feel free to change these keywords, the job title or the location in the [parameters](#parameters) section. \n",
    "\n",
    "The [Results](#results) show that the three most requested skills are the two programming languages **R** and **Python** as well as the query language **SQL**.\n",
    "\n",
    "---\n",
    "\n",
    "Requirements\n",
    "* Python v3.10\n",
    "* Beautifulsoup4 v4.11.1\n",
    "* Matplotlib v3.5.2\n",
    "* Linkedin-jobs-scraper v1.15.2 (needs [ChromeDriver](https://chromedriver.chromium.org/))"
   ]
  },
  {
   "cell_type": "markdown",
   "metadata": {},
   "source": [
    "## Parameters\n",
    "<a id=\"parameters\"></a>"
   ]
  },
  {
   "cell_type": "code",
   "execution_count": 2,
   "metadata": {},
   "outputs": [],
   "source": [
    "# Parameters\n",
    "job = \"Data Science\"\n",
    "locations = [\"Austria\"]\n",
    "keywords = (\"Python\", \"R\", \"SQL\", \"noSQL\", \"Excel\", \"PowerBI\", \"Power BI\", \"Tableau\", \"TensorFlow\", \"PyTorch\", \"Spark\", \"Hadoop\", \"AWS\", \"Azure\")"
   ]
  },
  {
   "cell_type": "markdown",
   "metadata": {},
   "source": [
    "## Code"
   ]
  },
  {
   "cell_type": "code",
   "execution_count": null,
   "metadata": {},
   "outputs": [],
   "source": [
    "# Change root logger level (default is WARN)\n",
    "logging.basicConfig(level = logging.INFO)\n",
    "job_postings = []\n",
    "\n",
    "# Fired once for each successfully processed job\n",
    "def on_data(data: EventData):\n",
    "    job_postings.append(data.link)\n",
    "\n",
    "scraper = LinkedinScraper(\n",
    "    chrome_executable_path=None,\n",
    "    chrome_options=None,\n",
    "    headless=True,\n",
    "    max_workers=1,\n",
    "    slow_mo=3,    # Slow down the scraper to avoid 'Too many requests 429' errors (in seconds)\n",
    "    page_load_timeout=20 \n",
    ")\n",
    "\n",
    "# Add event listeners\n",
    "scraper.on(Events.DATA, on_data)\n",
    "\n",
    "queries = [\n",
    "    Query(\n",
    "        query=job,\n",
    "        options=QueryOptions(\n",
    "            locations=locations,\n",
    "            limit=500,\n",
    "            filters=QueryFilters(\n",
    "                relevance=RelevanceFilters.RECENT,\n",
    "                type=[TypeFilters.FULL_TIME]              \n",
    "            )\n",
    "        )\n",
    "    ),\n",
    "]\n",
    "\n",
    "scraper.run(queries)"
   ]
  },
  {
   "cell_type": "code",
   "execution_count": 22,
   "metadata": {},
   "outputs": [],
   "source": [
    "# Check in how many job descriptions the keywords occur\n",
    "counts = {keyword: 0 for keyword in keywords}\n",
    "n_postings = 0\n",
    "\n",
    "for url in job_postings:\n",
    "    response = requests.get(url) \n",
    "    soup = BeautifulSoup(response.text, \"html.parser\")\n",
    "    job_description = soup.find_all(\"div\", {\"class\": \"description__text\"})\n",
    "    # Skip postings that have no job description\n",
    "    if len(job_description) > 0:\n",
    "        n_postings += 1\n",
    "        text = job_description[0].get_text()\n",
    "        for key in counts.keys():\n",
    "            key_space = key.center(len(key) + 2)        # Search for seperated keywords\n",
    "            key_comma = key.ljust(len(key) + 1, \",\")    # Search for keywords in an enumeration\n",
    "            key_slash = key.ljust(len(key) + 1, \"/\")    # Search for keywords seperated by a slash\n",
    "            count_key_space = text.lower().count(key_space.lower())\n",
    "            count_key_comma = text.lower().count(key_comma.lower())\n",
    "            count_key_slash = text.lower().count(key_slash.lower())\n",
    "            if count_key_space > 0 or count_key_comma > 0 or count_key_slash > 0: \n",
    "                counts[key] += 1\n",
    "\n",
    "# Combine \"PowerBI\" and \"Power BI\"\n",
    "if all(x in keywords for x in [\"PowerBI\", \"Power BI\"]):\n",
    "    counts[\"PowerBI\"] += counts[\"Power BI\"]\n",
    "    del counts[\"Power BI\"]"
   ]
  },
  {
   "cell_type": "markdown",
   "metadata": {},
   "source": [
    "## Results\n",
    "<a id=\"results\"></a>"
   ]
  },
  {
   "cell_type": "code",
   "execution_count": 23,
   "metadata": {},
   "outputs": [
    {
     "name": "stdout",
     "output_type": "stream",
     "text": [
      "381 job postings searched:\n",
      "{'Python': 143, 'R': 261, 'SQL': 100, 'noSQL': 15, 'Excel': 32, 'PowerBI': 54, 'Tableau': 38, 'TensorFlow': 15, 'PyTorch': 11, 'Spark': 30, 'Hadoop': 19, 'AWS': 47, 'Azure': 40}\n"
     ]
    }
   ],
   "source": [
    "# Results\n",
    "print(\"{} job postings searched:\".format(n_postings))\n",
    "print(counts)"
   ]
  },
  {
   "cell_type": "code",
   "execution_count": 24,
   "metadata": {},
   "outputs": [
    {
     "data": {
      "image/png": "[encoded data removed]",
      "text/plain": [
       "<Figure size 600x400 with 1 Axes>"
      ]
     },
     "metadata": {
      "needs_background": "light"
     },
     "output_type": "display_data"
    }
   ],
   "source": [
    "# Plot\n",
    "sorted_counts = dict(sorted(counts.items(), key=lambda x: x[1], reverse=True))\n",
    "fig, ax = plt.subplots()\n",
    "fig.set_dpi(100)\n",
    "ax.bar(sorted_counts.keys(), sorted_counts.values())\n",
    "plt.title(\"Importance of Data Science skills \\n (according to the job market)\")\n",
    "plt.xticks(rotation=90)\n",
    "plt.show()"
   ]
  }
 ],
 "metadata": {
  "kernelspec": {
   "display_name": "Python 3.10.5 ('.venv': venv)",
   "language": "python",
   "name": "python3"
  },
  "language_info": {
   "codemirror_mode": {
    "name": "ipython",
    "version": 3
   },
   "file_extension": ".py",
   "mimetype": "text/x-python",
   "name": "python",
   "nbconvert_exporter": "python",
   "pygments_lexer": "ipython3",
   "version": "3.10.5"
  },
  "orig_nbformat": 4,
  "vscode": {
   "interpreter": {
    "hash": "7d68d05c2bd9c4c31dba94abaf4a2663f0fc750631b227165686553df3e29e7a"
   }
  }
 },
 "nbformat": 4,
 "nbformat_minor": 2
}
