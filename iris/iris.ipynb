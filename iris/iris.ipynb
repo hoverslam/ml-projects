{
 "cells": [
  {
   "cell_type": "code",
   "execution_count": 1,
   "metadata": {},
   "outputs": [],
   "source": [
    "import numpy as np\n",
    "import pandas as pd\n",
    "import matplotlib.pyplot as plt\n",
    "import seaborn as sns\n",
    "import timeit\n",
    "\n",
    "from sklearn.model_selection import train_test_split, cross_val_score\n",
    "from sklearn.preprocessing import OneHotEncoder, StandardScaler, LabelEncoder, OrdinalEncoder\n",
    "from sklearn.metrics import accuracy_score, f1_score, confusion_matrix, recall_score, log_loss\n",
    "from sklearn import neighbors, svm\n",
    "from sklearn.tree import DecisionTreeClassifier\n",
    "from sklearn.ensemble import RandomForestClassifier\n",
    "from sklearn.dummy import DummyClassifier\n",
    "\n",
    "from mlxtend.evaluate import paired_ttest_5x2cv"
   ]
  },
  {
   "cell_type": "markdown",
   "metadata": {},
   "source": [
    "# Data set"
   ]
  },
  {
   "cell_type": "code",
   "execution_count": 2,
   "metadata": {},
   "outputs": [
    {
     "data": {
      "text/html": [
       "<div>\n",
       "<style scoped>\n",
       "    .dataframe tbody tr th:only-of-type {\n",
       "        vertical-align: middle;\n",
       "    }\n",
       "\n",
       "    .dataframe tbody tr th {\n",
       "        vertical-align: top;\n",
       "    }\n",
       "\n",
       "    .dataframe thead th {\n",
       "        text-align: right;\n",
       "    }\n",
       "</style>\n",
       "<table border=\"1\" class=\"dataframe\">\n",
       "  <thead>\n",
       "    <tr style=\"text-align: right;\">\n",
       "      <th></th>\n",
       "      <th>sepallength</th>\n",
       "      <th>sepalwidth</th>\n",
       "      <th>petallength</th>\n",
       "      <th>petalwidth</th>\n",
       "      <th>class</th>\n",
       "    </tr>\n",
       "  </thead>\n",
       "  <tbody>\n",
       "    <tr>\n",
       "      <th>0</th>\n",
       "      <td>5.1</td>\n",
       "      <td>3.5</td>\n",
       "      <td>1.4</td>\n",
       "      <td>0.2</td>\n",
       "      <td>Iris-setosa</td>\n",
       "    </tr>\n",
       "    <tr>\n",
       "      <th>1</th>\n",
       "      <td>4.9</td>\n",
       "      <td>3.0</td>\n",
       "      <td>1.4</td>\n",
       "      <td>0.2</td>\n",
       "      <td>Iris-setosa</td>\n",
       "    </tr>\n",
       "    <tr>\n",
       "      <th>2</th>\n",
       "      <td>4.7</td>\n",
       "      <td>3.2</td>\n",
       "      <td>1.3</td>\n",
       "      <td>0.2</td>\n",
       "      <td>Iris-setosa</td>\n",
       "    </tr>\n",
       "    <tr>\n",
       "      <th>3</th>\n",
       "      <td>4.6</td>\n",
       "      <td>3.1</td>\n",
       "      <td>1.5</td>\n",
       "      <td>0.2</td>\n",
       "      <td>Iris-setosa</td>\n",
       "    </tr>\n",
       "    <tr>\n",
       "      <th>4</th>\n",
       "      <td>5.0</td>\n",
       "      <td>3.6</td>\n",
       "      <td>1.4</td>\n",
       "      <td>0.2</td>\n",
       "      <td>Iris-setosa</td>\n",
       "    </tr>\n",
       "  </tbody>\n",
       "</table>\n",
       "</div>"
      ],
      "text/plain": [
       "   sepallength  sepalwidth  petallength  petalwidth        class\n",
       "0          5.1         3.5          1.4         0.2  Iris-setosa\n",
       "1          4.9         3.0          1.4         0.2  Iris-setosa\n",
       "2          4.7         3.2          1.3         0.2  Iris-setosa\n",
       "3          4.6         3.1          1.5         0.2  Iris-setosa\n",
       "4          5.0         3.6          1.4         0.2  Iris-setosa"
      ]
     },
     "execution_count": 2,
     "metadata": {},
     "output_type": "execute_result"
    }
   ],
   "source": [
    "data = pd.read_csv(\"iris_dataset.csv\")\n",
    "data.head()"
   ]
  },
  {
   "cell_type": "code",
   "execution_count": 3,
   "metadata": {},
   "outputs": [],
   "source": [
    "X = data.iloc[:, :-1]\n",
    "y = data.iloc[:, -1:]"
   ]
  },
  {
   "cell_type": "markdown",
   "metadata": {},
   "source": [
    "# Exploration"
   ]
  },
  {
   "cell_type": "markdown",
   "metadata": {},
   "source": [
    "## Overview"
   ]
  },
  {
   "cell_type": "code",
   "execution_count": 4,
   "metadata": {},
   "outputs": [
    {
     "name": "stdout",
     "output_type": "stream",
     "text": [
      "<class 'pandas.core.frame.DataFrame'>\n",
      "RangeIndex: 150 entries, 0 to 149\n",
      "Data columns (total 5 columns):\n",
      " #   Column       Non-Null Count  Dtype  \n",
      "---  ------       --------------  -----  \n",
      " 0   sepallength  150 non-null    float64\n",
      " 1   sepalwidth   150 non-null    float64\n",
      " 2   petallength  150 non-null    float64\n",
      " 3   petalwidth   150 non-null    float64\n",
      " 4   class        150 non-null    object \n",
      "dtypes: float64(4), object(1)\n",
      "memory usage: 6.0+ KB\n"
     ]
    }
   ],
   "source": [
    "data.info()"
   ]
  },
  {
   "cell_type": "code",
   "execution_count": 5,
   "metadata": {},
   "outputs": [
    {
     "data": {
      "text/plain": [
       "sepallength    0\n",
       "sepalwidth     0\n",
       "petallength    0\n",
       "petalwidth     0\n",
       "class          0\n",
       "dtype: int64"
      ]
     },
     "execution_count": 5,
     "metadata": {},
     "output_type": "execute_result"
    }
   ],
   "source": [
    "data.isnull().sum()"
   ]
  },
  {
   "cell_type": "code",
   "execution_count": 6,
   "metadata": {},
   "outputs": [
    {
     "data": {
      "text/html": [
       "<div>\n",
       "<style scoped>\n",
       "    .dataframe tbody tr th:only-of-type {\n",
       "        vertical-align: middle;\n",
       "    }\n",
       "\n",
       "    .dataframe tbody tr th {\n",
       "        vertical-align: top;\n",
       "    }\n",
       "\n",
       "    .dataframe thead th {\n",
       "        text-align: right;\n",
       "    }\n",
       "</style>\n",
       "<table border=\"1\" class=\"dataframe\">\n",
       "  <thead>\n",
       "    <tr style=\"text-align: right;\">\n",
       "      <th></th>\n",
       "      <th>sepallength</th>\n",
       "      <th>sepalwidth</th>\n",
       "      <th>petallength</th>\n",
       "      <th>petalwidth</th>\n",
       "    </tr>\n",
       "    <tr>\n",
       "      <th>class</th>\n",
       "      <th></th>\n",
       "      <th></th>\n",
       "      <th></th>\n",
       "      <th></th>\n",
       "    </tr>\n",
       "  </thead>\n",
       "  <tbody>\n",
       "    <tr>\n",
       "      <th>Iris-setosa</th>\n",
       "      <td>50</td>\n",
       "      <td>50</td>\n",
       "      <td>50</td>\n",
       "      <td>50</td>\n",
       "    </tr>\n",
       "    <tr>\n",
       "      <th>Iris-versicolor</th>\n",
       "      <td>50</td>\n",
       "      <td>50</td>\n",
       "      <td>50</td>\n",
       "      <td>50</td>\n",
       "    </tr>\n",
       "    <tr>\n",
       "      <th>Iris-virginica</th>\n",
       "      <td>50</td>\n",
       "      <td>50</td>\n",
       "      <td>50</td>\n",
       "      <td>50</td>\n",
       "    </tr>\n",
       "  </tbody>\n",
       "</table>\n",
       "</div>"
      ],
      "text/plain": [
       "                 sepallength  sepalwidth  petallength  petalwidth\n",
       "class                                                            \n",
       "Iris-setosa               50          50           50          50\n",
       "Iris-versicolor           50          50           50          50\n",
       "Iris-virginica            50          50           50          50"
      ]
     },
     "execution_count": 6,
     "metadata": {},
     "output_type": "execute_result"
    }
   ],
   "source": [
    "data.groupby(\"class\").count()"
   ]
  },
  {
   "cell_type": "code",
   "execution_count": 7,
   "metadata": {},
   "outputs": [
    {
     "data": {
      "text/html": [
       "<div>\n",
       "<style scoped>\n",
       "    .dataframe tbody tr th:only-of-type {\n",
       "        vertical-align: middle;\n",
       "    }\n",
       "\n",
       "    .dataframe tbody tr th {\n",
       "        vertical-align: top;\n",
       "    }\n",
       "\n",
       "    .dataframe thead th {\n",
       "        text-align: right;\n",
       "    }\n",
       "</style>\n",
       "<table border=\"1\" class=\"dataframe\">\n",
       "  <thead>\n",
       "    <tr style=\"text-align: right;\">\n",
       "      <th></th>\n",
       "      <th>sepallength</th>\n",
       "      <th>sepalwidth</th>\n",
       "      <th>petallength</th>\n",
       "      <th>petalwidth</th>\n",
       "    </tr>\n",
       "  </thead>\n",
       "  <tbody>\n",
       "    <tr>\n",
       "      <th>count</th>\n",
       "      <td>150.000000</td>\n",
       "      <td>150.000000</td>\n",
       "      <td>150.000000</td>\n",
       "      <td>150.000000</td>\n",
       "    </tr>\n",
       "    <tr>\n",
       "      <th>mean</th>\n",
       "      <td>5.843333</td>\n",
       "      <td>3.054000</td>\n",
       "      <td>3.758667</td>\n",
       "      <td>1.198667</td>\n",
       "    </tr>\n",
       "    <tr>\n",
       "      <th>std</th>\n",
       "      <td>0.828066</td>\n",
       "      <td>0.433594</td>\n",
       "      <td>1.764420</td>\n",
       "      <td>0.763161</td>\n",
       "    </tr>\n",
       "    <tr>\n",
       "      <th>min</th>\n",
       "      <td>4.300000</td>\n",
       "      <td>2.000000</td>\n",
       "      <td>1.000000</td>\n",
       "      <td>0.100000</td>\n",
       "    </tr>\n",
       "    <tr>\n",
       "      <th>25%</th>\n",
       "      <td>5.100000</td>\n",
       "      <td>2.800000</td>\n",
       "      <td>1.600000</td>\n",
       "      <td>0.300000</td>\n",
       "    </tr>\n",
       "    <tr>\n",
       "      <th>50%</th>\n",
       "      <td>5.800000</td>\n",
       "      <td>3.000000</td>\n",
       "      <td>4.350000</td>\n",
       "      <td>1.300000</td>\n",
       "    </tr>\n",
       "    <tr>\n",
       "      <th>75%</th>\n",
       "      <td>6.400000</td>\n",
       "      <td>3.300000</td>\n",
       "      <td>5.100000</td>\n",
       "      <td>1.800000</td>\n",
       "    </tr>\n",
       "    <tr>\n",
       "      <th>max</th>\n",
       "      <td>7.900000</td>\n",
       "      <td>4.400000</td>\n",
       "      <td>6.900000</td>\n",
       "      <td>2.500000</td>\n",
       "    </tr>\n",
       "  </tbody>\n",
       "</table>\n",
       "</div>"
      ],
      "text/plain": [
       "       sepallength  sepalwidth  petallength  petalwidth\n",
       "count   150.000000  150.000000   150.000000  150.000000\n",
       "mean      5.843333    3.054000     3.758667    1.198667\n",
       "std       0.828066    0.433594     1.764420    0.763161\n",
       "min       4.300000    2.000000     1.000000    0.100000\n",
       "25%       5.100000    2.800000     1.600000    0.300000\n",
       "50%       5.800000    3.000000     4.350000    1.300000\n",
       "75%       6.400000    3.300000     5.100000    1.800000\n",
       "max       7.900000    4.400000     6.900000    2.500000"
      ]
     },
     "execution_count": 7,
     "metadata": {},
     "output_type": "execute_result"
    }
   ],
   "source": [
    "data.describe()"
   ]
  },
  {
   "cell_type": "code",
   "execution_count": 8,
   "metadata": {},
   "outputs": [
    {
     "data": {
      "text/html": [
       "<div>\n",
       "<style scoped>\n",
       "    .dataframe tbody tr th:only-of-type {\n",
       "        vertical-align: middle;\n",
       "    }\n",
       "\n",
       "    .dataframe tbody tr th {\n",
       "        vertical-align: top;\n",
       "    }\n",
       "\n",
       "    .dataframe thead th {\n",
       "        text-align: right;\n",
       "    }\n",
       "</style>\n",
       "<table border=\"1\" class=\"dataframe\">\n",
       "  <thead>\n",
       "    <tr style=\"text-align: right;\">\n",
       "      <th></th>\n",
       "      <th>sepallength</th>\n",
       "      <th>sepalwidth</th>\n",
       "      <th>petallength</th>\n",
       "      <th>petalwidth</th>\n",
       "    </tr>\n",
       "  </thead>\n",
       "  <tbody>\n",
       "    <tr>\n",
       "      <th>sepallength</th>\n",
       "      <td>1.000000</td>\n",
       "      <td>-0.109369</td>\n",
       "      <td>0.871754</td>\n",
       "      <td>0.817954</td>\n",
       "    </tr>\n",
       "    <tr>\n",
       "      <th>sepalwidth</th>\n",
       "      <td>-0.109369</td>\n",
       "      <td>1.000000</td>\n",
       "      <td>-0.420516</td>\n",
       "      <td>-0.356544</td>\n",
       "    </tr>\n",
       "    <tr>\n",
       "      <th>petallength</th>\n",
       "      <td>0.871754</td>\n",
       "      <td>-0.420516</td>\n",
       "      <td>1.000000</td>\n",
       "      <td>0.962757</td>\n",
       "    </tr>\n",
       "    <tr>\n",
       "      <th>petalwidth</th>\n",
       "      <td>0.817954</td>\n",
       "      <td>-0.356544</td>\n",
       "      <td>0.962757</td>\n",
       "      <td>1.000000</td>\n",
       "    </tr>\n",
       "  </tbody>\n",
       "</table>\n",
       "</div>"
      ],
      "text/plain": [
       "             sepallength  sepalwidth  petallength  petalwidth\n",
       "sepallength     1.000000   -0.109369     0.871754    0.817954\n",
       "sepalwidth     -0.109369    1.000000    -0.420516   -0.356544\n",
       "petallength     0.871754   -0.420516     1.000000    0.962757\n",
       "petalwidth      0.817954   -0.356544     0.962757    1.000000"
      ]
     },
     "execution_count": 8,
     "metadata": {},
     "output_type": "execute_result"
    }
   ],
   "source": [
    "corr = data.corr()\n",
    "corr"
   ]
  },
  {
   "cell_type": "markdown",
   "metadata": {},
   "source": [
    "## Plots"
   ]
  },
  {
   "cell_type": "code",
   "execution_count": 9,
   "metadata": {},
   "outputs": [
    {
     "data": {
      "text/plain": [
       "<AxesSubplot:xlabel='petalwidth', ylabel='Count'>"
      ]
     },
     "execution_count": 9,
     "metadata": {},
     "output_type": "execute_result"
    },
    {
     "data": {
      "image/png": "[encoded data removed]",
      "text/plain": [
       "<Figure size 1152x720 with 4 Axes>"
      ]
     },
     "metadata": {
      "needs_background": "light"
     },
     "output_type": "display_data"
    }
   ],
   "source": [
    "fig, axs = plt.subplots(2, 2, figsize=(16,10))\n",
    "fig.suptitle(\"Histograms of features\", fontsize=20)\n",
    "sns.histplot(data=data[\"sepallength\"], ax=axs[0, 0])\n",
    "sns.histplot(data=data[\"sepalwidth\"], ax=axs[0, 1])\n",
    "sns.histplot(data=data[\"petallength\"], ax=axs[1, 0])\n",
    "sns.histplot(data=data[\"petalwidth\"], ax=axs[1, 1])"
   ]
  },
  {
   "cell_type": "code",
   "execution_count": 10,
   "metadata": {},
   "outputs": [
    {
     "data": {
      "text/plain": [
       "<AxesSubplot:>"
      ]
     },
     "execution_count": 10,
     "metadata": {},
     "output_type": "execute_result"
    },
    {
     "data": {
      "image/png": "[encoded data removed]",
      "text/plain": [
       "<Figure size 720x432 with 1 Axes>"
      ]
     },
     "metadata": {
      "needs_background": "light"
     },
     "output_type": "display_data"
    }
   ],
   "source": [
    "fig, axs = plt.subplots(figsize=(10, 6))\n",
    "fig.suptitle(\"Boxplot of features\", fontsize=20)\n",
    "sns.boxplot(data=X, orient=\"h\", palette=\"Set2\")"
   ]
  },
  {
   "cell_type": "code",
   "execution_count": 11,
   "metadata": {},
   "outputs": [
    {
     "data": {
      "text/plain": [
       "<AxesSubplot:>"
      ]
     },
     "execution_count": 11,
     "metadata": {},
     "output_type": "execute_result"
    },
    {
     "data": {
      "image/png": "[encoded data removed]",
      "text/plain": [
       "<Figure size 936x576 with 2 Axes>"
      ]
     },
     "metadata": {
      "needs_background": "light"
     },
     "output_type": "display_data"
    }
   ],
   "source": [
    "mask = np.triu(np.ones_like(corr, dtype=bool))\n",
    "fig, axs = plt.subplots(figsize=(13, 8))\n",
    "fig.suptitle(\"Correlation matrix of features\", fontsize=20)\n",
    "cmap = sns.diverging_palette(230, 20, as_cmap=True)\n",
    "sns.heatmap(corr, mask=mask, cmap=cmap, vmax=.3, center=0,\n",
    "            square=True, linewidths=.5, cbar_kws={\"shrink\": .5})"
   ]
  },
  {
   "cell_type": "code",
   "execution_count": 12,
   "metadata": {},
   "outputs": [
    {
     "data": {
      "text/plain": [
       "<AxesSubplot:xlabel='class', ylabel='petalwidth'>"
      ]
     },
     "execution_count": 12,
     "metadata": {},
     "output_type": "execute_result"
    },
    {
     "data": {
      "image/png": "[encoded data removed]",
      "text/plain": [
       "<Figure size 1152x720 with 4 Axes>"
      ]
     },
     "metadata": {
      "needs_background": "light"
     },
     "output_type": "display_data"
    }
   ],
   "source": [
    "fig, axs = plt.subplots(2, 2, figsize=(16,10))\n",
    "fig.suptitle(\"Features against targets\", fontsize=20)\n",
    "sns.stripplot(data=data, x=\"class\", y=\"sepallength\", ax=axs[0, 0])\n",
    "sns.stripplot(data=data, x=\"class\", y=\"sepalwidth\", ax=axs[0, 1])\n",
    "sns.stripplot(data=data, x=\"class\", y=\"petallength\", ax=axs[1, 0])\n",
    "sns.stripplot(data=data, x=\"class\", y=\"petalwidth\", ax=axs[1, 1])"
   ]
  },
  {
   "cell_type": "markdown",
   "metadata": {},
   "source": [
    "# Pre-processing"
   ]
  },
  {
   "cell_type": "markdown",
   "metadata": {},
   "source": [
    "## Feature selection"
   ]
  },
  {
   "cell_type": "code",
   "execution_count": 13,
   "metadata": {},
   "outputs": [],
   "source": [
    "# not needed"
   ]
  },
  {
   "cell_type": "markdown",
   "metadata": {},
   "source": [
    "## Feature scaling"
   ]
  },
  {
   "cell_type": "code",
   "execution_count": 14,
   "metadata": {},
   "outputs": [],
   "source": [
    "scaler = StandardScaler().fit(X)\n",
    "X_scaled = scaler.transform(X)"
   ]
  },
  {
   "cell_type": "markdown",
   "metadata": {},
   "source": [
    "## Encoding"
   ]
  },
  {
   "cell_type": "code",
   "execution_count": 15,
   "metadata": {},
   "outputs": [],
   "source": [
    "enc = LabelEncoder()\n",
    "y_encoded = enc.fit_transform(y.values.ravel())"
   ]
  },
  {
   "cell_type": "markdown",
   "metadata": {},
   "source": [
    "# Model selection"
   ]
  },
  {
   "cell_type": "code",
   "execution_count": 16,
   "metadata": {},
   "outputs": [],
   "source": [
    "# [TODO] add grid search for each class"
   ]
  },
  {
   "cell_type": "markdown",
   "metadata": {},
   "source": [
    "## K-Nearest Neighbor"
   ]
  },
  {
   "cell_type": "code",
   "execution_count": 17,
   "metadata": {},
   "outputs": [],
   "source": [
    "knn = {\n",
    "    # [n_neighbors, weights]\n",
    "    \"KNN [5, uniform]\": neighbors.KNeighborsClassifier(n_neighbors=5),\n",
    "    \"KNN [5, distance]\": neighbors.KNeighborsClassifier(n_neighbors=5, weights=\"distance\"),\n",
    "    \"KNN [1, uniform]\": neighbors.KNeighborsClassifier(n_neighbors=1),\n",
    "    \"KNN [1, distance]\": neighbors.KNeighborsClassifier(n_neighbors=1, weights=\"distance\"),\n",
    "    \"KNN [3, uniform]\": neighbors.KNeighborsClassifier(n_neighbors=3),\n",
    "    \"KNN [3, distance]\": neighbors.KNeighborsClassifier(n_neighbors=3, weights=\"distance\"),    \n",
    "    #\"KNN [10, uniform]\": neighbors.KNeighborsClassifier(n_neighbors=10),\n",
    "    #\"KNN [10, distance]\": neighbors.KNeighborsClassifier(n_neighbors=10, weights=\"distance\"),\n",
    "    #\"KNN [15, uniform]\": neighbors.KNeighborsClassifier(n_neighbors=15),\n",
    "    #\"KNN [15, distance]\": neighbors.KNeighborsClassifier(n_neighbors=15, weights=\"distance\")\n",
    "}\n"
   ]
  },
  {
   "cell_type": "markdown",
   "metadata": {},
   "source": [
    "## Decision Tree"
   ]
  },
  {
   "cell_type": "code",
   "execution_count": 18,
   "metadata": {},
   "outputs": [],
   "source": [
    "# either Decision tree or Random Forest -> both tree search algorithms\n",
    "\n",
    "rnd = 5\n",
    "decision_tree = {\n",
    "    # [criterion, splitter, max_depth]\n",
    "    \"Decision Tree [gini, best, none]\": DecisionTreeClassifier(criterion=\"gini\", splitter=\"best\", max_depth=None, random_state=rnd),\n",
    "    \"Decision Tree [entropy, best, none]\": DecisionTreeClassifier(criterion=\"entropy\", splitter=\"best\", max_depth=None, random_state=rnd),\n",
    "    \"Decision Tree [gini, random, none]\": DecisionTreeClassifier(criterion=\"gini\", splitter=\"random\", max_depth=None, random_state=rnd),\n",
    "    \"Decision Tree [gini, best, 5]\": DecisionTreeClassifier(criterion=\"gini\", splitter=\"best\", max_depth=5, random_state=rnd),\n",
    "    \"Decision Tree [entropy, best, 5]\": DecisionTreeClassifier(criterion=\"entropy\", splitter=\"best\", max_depth=5, random_state=rnd),\n",
    "    \"Decision Tree [gini, random, 5]\": DecisionTreeClassifier(criterion=\"gini\", splitter=\"random\", max_depth=5, random_state=rnd),\n",
    "    #\"Decision Tree [gini, best, 10]\": DecisionTreeClassifier(criterion=\"gini\", splitter=\"best\", max_depth=10, random_state=rnd),\n",
    "    #\"Decision Tree [entropy, best, 10]\": DecisionTreeClassifier(criterion=\"entropy\", splitter=\"best\", max_depth=10, random_state=rnd),\n",
    "    #\"Decision Tree [gini, random, 10]\": DecisionTreeClassifier(criterion=\"gini\", splitter=\"random\", max_depth=10, random_state=rnd)\n",
    "}"
   ]
  },
  {
   "cell_type": "markdown",
   "metadata": {},
   "source": [
    "## Random Forest"
   ]
  },
  {
   "cell_type": "code",
   "execution_count": 19,
   "metadata": {},
   "outputs": [],
   "source": [
    "# either Decision tree or Random Forest -> both tree search algorithms\n",
    "\n",
    "rnd = 5\n",
    "random_forest = {\n",
    "    # [n_estimators, criterion, max_depth]\n",
    "    \"Random Forest [100, gini, none]\": RandomForestClassifier(n_estimators=100, criterion=\"gini\", max_depth=None, random_state=rnd),\n",
    "    \"Random Forest [200, gini, none]\": RandomForestClassifier(n_estimators=200, criterion=\"gini\", max_depth=None, random_state=rnd),\n",
    "    #\"Random Forest [300, gini, none]\": RandomForestClassifier(n_estimators=300, criterion=\"gini\", max_depth=None, random_state=rnd),\n",
    "    \"Random Forest [100, entropy, none]\": RandomForestClassifier(n_estimators=100, criterion=\"entropy\", max_depth=None, random_state=rnd),\n",
    "    \"Random Forest [200, entropy, none]\": RandomForestClassifier(n_estimators=200, criterion=\"entropy\", max_depth=None, random_state=rnd),\n",
    "    #\"Random Forest [300, entropy, none]\": RandomForestClassifier(n_estimators=300, criterion=\"entropy\", max_depth=None, random_state=rnd),\n",
    "    \"Random Forest [100, gini, 5]\": RandomForestClassifier(n_estimators=100, criterion=\"gini\", max_depth=5, random_state=rnd),\n",
    "    \"Random Forest [200, gini, 5]\": RandomForestClassifier(n_estimators=200, criterion=\"gini\", max_depth=5, random_state=rnd),\n",
    "    #\"Random Forest [300, gini, 5]\": RandomForestClassifier(n_estimators=300, criterion=\"gini\", max_depth=5, random_state=rnd),\n",
    "    \"Random Forest [100, entropy, 5]\": RandomForestClassifier(n_estimators=100, criterion=\"entropy\", max_depth=5, random_state=rnd),\n",
    "    \"Random Forest [200, entropy, 5]\": RandomForestClassifier(n_estimators=200, criterion=\"entropy\", max_depth=5, random_state=rnd),\n",
    "    #\"Random Forest [300, entropy, 5]\": RandomForestClassifier(n_estimators=300, criterion=\"entropy\", max_depth=5, random_state=rnd)\n",
    "}"
   ]
  },
  {
   "cell_type": "markdown",
   "metadata": {},
   "source": [
    "## Support Vector Machines"
   ]
  },
  {
   "cell_type": "code",
   "execution_count": 20,
   "metadata": {},
   "outputs": [],
   "source": [
    "svm = {\n",
    "    # [regularization, gamma]\n",
    "    \"SVM [1, scale]\": svm.SVC(C=1.0, gamma=\"scale\"),\n",
    "    \"SVM [0.1, scale]\": svm.SVC(C=0.1, gamma=\"scale\"),\n",
    "    \"SVM [10, scale]\": svm.SVC(C=10.0, gamma=\"scale\"),\n",
    "    \"SVM [100, scale]\": svm.SVC(C=100.0, gamma=\"scale\"),\n",
    "    \"SVM [1, 1]\": svm.SVC(C=1.0, gamma=1.0),\n",
    "    \"SVM [0.1, 1]\": svm.SVC(C=0.1, gamma=1.0),\n",
    "    \"SVM [10, 1]\": svm.SVC(C=10.0, gamma=1.0),\n",
    "    \"SVM [100, 1]\": svm.SVC(C=100.0, gamma=1.0),\n",
    "}"
   ]
  },
  {
   "cell_type": "code",
   "execution_count": 21,
   "metadata": {},
   "outputs": [],
   "source": [
    "classifiers = [knn, random_forest, svm]\n"
   ]
  },
  {
   "cell_type": "markdown",
   "metadata": {},
   "source": [
    "# Training and validation"
   ]
  },
  {
   "cell_type": "code",
   "execution_count": 22,
   "metadata": {},
   "outputs": [],
   "source": [
    "# [TODO] add and plot confusion matrix:\n",
    "# plt.figure(figsize = (10,7))\n",
    "# sns.heatmap(conf_matrix, annot=True)"
   ]
  },
  {
   "cell_type": "markdown",
   "metadata": {},
   "source": [
    "## Hold-out"
   ]
  },
  {
   "cell_type": "code",
   "execution_count": 23,
   "metadata": {},
   "outputs": [],
   "source": [
    "def holdout(clf, X_train, y_train, test_size):\n",
    "    start = timeit.default_timer()\n",
    "\n",
    "    X_train, X_val, y_train, y_val = train_test_split(X_train, y_train, test_size=test_size, random_state=30)\n",
    "    model = clf.fit(X_train, y_train)\n",
    "\n",
    "    accuracy = accuracy_score(y_val, model.predict(X_val))\n",
    "    recall = recall_score(y_val, model.predict(X_val), average=\"macro\")\n",
    "    f1 = f1_score(y_val, model.predict(X_val), average=\"macro\")\n",
    "\n",
    "    stop = timeit.default_timer()\n",
    "    runtime = stop - start\n",
    "\n",
    "    return([accuracy, recall, f1, runtime, model])"
   ]
  },
  {
   "cell_type": "markdown",
   "metadata": {},
   "source": [
    "## Cross-validation"
   ]
  },
  {
   "cell_type": "code",
   "execution_count": 24,
   "metadata": {},
   "outputs": [],
   "source": [
    "def cross_validation(clf, X_train, y_train, cv):\n",
    "    start = timeit.default_timer()\n",
    "    \n",
    "    model = clf.fit(X_train, y_train)\n",
    "\n",
    "    accuracy = cross_val_score(model, X=X_train, y=y_train, scoring=\"accuracy\", cv=cv)\n",
    "    recall = cross_val_score(model, X=X_train, y=y_train, scoring=\"recall_macro\", cv=cv)\n",
    "    f1 = cross_val_score(model, X=X_train, y=y_train, scoring=\"f1_macro\", cv=cv)\n",
    "\n",
    "    stop = timeit.default_timer()\n",
    "    runtime = stop - start\n",
    "\n",
    "    return([np.mean(accuracy), np.mean(recall), np.mean(f1), runtime, model])\n"
   ]
  },
  {
   "cell_type": "markdown",
   "metadata": {},
   "source": [
    "# Results"
   ]
  },
  {
   "cell_type": "code",
   "execution_count": 25,
   "metadata": {},
   "outputs": [
    {
     "name": "stderr",
     "output_type": "stream",
     "text": [
      "f:\\Programmieren\\Python\\ml-projects\\.venv\\lib\\site-packages\\mlxtend\\evaluate\\ttest.py:333: RuntimeWarning: invalid value encountered in double_scalars\n",
      "  t_stat = numerator / denominator\n",
      "f:\\Programmieren\\Python\\ml-projects\\.venv\\lib\\site-packages\\mlxtend\\evaluate\\ttest.py:333: RuntimeWarning: invalid value encountered in double_scalars\n",
      "  t_stat = numerator / denominator\n",
      "f:\\Programmieren\\Python\\ml-projects\\.venv\\lib\\site-packages\\mlxtend\\evaluate\\ttest.py:333: RuntimeWarning: invalid value encountered in double_scalars\n",
      "  t_stat = numerator / denominator\n",
      "f:\\Programmieren\\Python\\ml-projects\\.venv\\lib\\site-packages\\mlxtend\\evaluate\\ttest.py:333: RuntimeWarning: invalid value encountered in double_scalars\n",
      "  t_stat = numerator / denominator\n",
      "f:\\Programmieren\\Python\\ml-projects\\.venv\\lib\\site-packages\\mlxtend\\evaluate\\ttest.py:333: RuntimeWarning: invalid value encountered in double_scalars\n",
      "  t_stat = numerator / denominator\n",
      "f:\\Programmieren\\Python\\ml-projects\\.venv\\lib\\site-packages\\mlxtend\\evaluate\\ttest.py:333: RuntimeWarning: invalid value encountered in double_scalars\n",
      "  t_stat = numerator / denominator\n",
      "f:\\Programmieren\\Python\\ml-projects\\.venv\\lib\\site-packages\\mlxtend\\evaluate\\ttest.py:333: RuntimeWarning: invalid value encountered in double_scalars\n",
      "  t_stat = numerator / denominator\n",
      "f:\\Programmieren\\Python\\ml-projects\\.venv\\lib\\site-packages\\mlxtend\\evaluate\\ttest.py:333: RuntimeWarning: invalid value encountered in double_scalars\n",
      "  t_stat = numerator / denominator\n",
      "f:\\Programmieren\\Python\\ml-projects\\.venv\\lib\\site-packages\\mlxtend\\evaluate\\ttest.py:333: RuntimeWarning: invalid value encountered in double_scalars\n",
      "  t_stat = numerator / denominator\n",
      "f:\\Programmieren\\Python\\ml-projects\\.venv\\lib\\site-packages\\mlxtend\\evaluate\\ttest.py:333: RuntimeWarning: invalid value encountered in double_scalars\n",
      "  t_stat = numerator / denominator\n",
      "f:\\Programmieren\\Python\\ml-projects\\.venv\\lib\\site-packages\\mlxtend\\evaluate\\ttest.py:333: RuntimeWarning: invalid value encountered in double_scalars\n",
      "  t_stat = numerator / denominator\n",
      "f:\\Programmieren\\Python\\ml-projects\\.venv\\lib\\site-packages\\mlxtend\\evaluate\\ttest.py:333: RuntimeWarning: invalid value encountered in double_scalars\n",
      "  t_stat = numerator / denominator\n",
      "f:\\Programmieren\\Python\\ml-projects\\.venv\\lib\\site-packages\\mlxtend\\evaluate\\ttest.py:333: RuntimeWarning: invalid value encountered in double_scalars\n",
      "  t_stat = numerator / denominator\n",
      "f:\\Programmieren\\Python\\ml-projects\\.venv\\lib\\site-packages\\mlxtend\\evaluate\\ttest.py:333: RuntimeWarning: invalid value encountered in double_scalars\n",
      "  t_stat = numerator / denominator\n",
      "f:\\Programmieren\\Python\\ml-projects\\.venv\\lib\\site-packages\\mlxtend\\evaluate\\ttest.py:333: RuntimeWarning: invalid value encountered in double_scalars\n",
      "  t_stat = numerator / denominator\n",
      "f:\\Programmieren\\Python\\ml-projects\\.venv\\lib\\site-packages\\mlxtend\\evaluate\\ttest.py:333: RuntimeWarning: invalid value encountered in double_scalars\n",
      "  t_stat = numerator / denominator\n",
      "f:\\Programmieren\\Python\\ml-projects\\.venv\\lib\\site-packages\\mlxtend\\evaluate\\ttest.py:333: RuntimeWarning: invalid value encountered in double_scalars\n",
      "  t_stat = numerator / denominator\n",
      "f:\\Programmieren\\Python\\ml-projects\\.venv\\lib\\site-packages\\mlxtend\\evaluate\\ttest.py:333: RuntimeWarning: invalid value encountered in double_scalars\n",
      "  t_stat = numerator / denominator\n"
     ]
    }
   ],
   "source": [
    "def evaluate_classifiers(classifiers, X_train, y_train):\n",
    "    performance = list()\n",
    "    significance = list()\n",
    "\n",
    "    for clf_dict in classifiers:\n",
    "        baseline = clf_dict[list(clf_dict.keys())[0]]   # set first classifier of each class as baseline\n",
    "        baseline.fit(X_train, y_train)\n",
    "        \n",
    "        for i, (key, clf) in enumerate(clf_dict.items()):\n",
    "            # significance test against default settings -> error messages are normal, because baseline gets tested against itself -> NAs\n",
    "            _, p_accuracy = paired_ttest_5x2cv(estimator1=baseline, estimator2=clf, X=X_train, y=y_train, scoring=\"accuracy\", random_seed=30)\n",
    "            _, p_recall = paired_ttest_5x2cv(estimator1=baseline, estimator2=clf, X=X_train, y=y_train, scoring=\"recall_macro\", random_seed=30)\n",
    "            _, p_f1 = paired_ttest_5x2cv(estimator1=baseline, estimator2=clf, X=X_train, y=y_train, scoring=\"f1_macro\", random_seed=30)\n",
    "            significance.append([key, p_accuracy, p_recall, p_f1])\n",
    "\n",
    "            # hold-out\n",
    "            for test_size in [0.2, 0.3, 0.4]:\n",
    "                accuracy, recall, f1, runtime, model = holdout(clf, X_train, y_train, test_size=test_size)\n",
    "                performance.append([key, \"hold-out\", test_size, accuracy, recall, f1, runtime, model])\n",
    "                \n",
    "            # cross-validation\n",
    "            for cv in [3, 5, 10]:\n",
    "                accuracy, recall, f1, runtime, model = cross_validation(clf, X_train, y_train, cv)\n",
    "                performance.append([key, \"cross\", cv, accuracy, recall, f1, runtime, model])\n",
    "\n",
    "    return(list([performance, significance]))\n",
    "\n",
    "results = evaluate_classifiers(classifiers, X_scaled, y_encoded)\n",
    "performance_df = pd.DataFrame(results[0], columns=[\"Classifier\", \"Validation\", \"Split\", \"Accuracy\", \"Recall (macro)\", \"F1 (macro)\", \"Runtime\", \"Model\"])\n",
    "performance_df.drop(\"Model\", axis=1, inplace=True)\n",
    "significance_df = pd.DataFrame(results[1], columns=[\"Classifier\", \"Accuracy\", \"Recall (macro)\", \"F1 (macro)\"])"
   ]
  },
  {
   "cell_type": "code",
   "execution_count": 28,
   "metadata": {},
   "outputs": [
    {
     "data": {
      "text/html": [
       "<div>\n",
       "<style scoped>\n",
       "    .dataframe tbody tr th:only-of-type {\n",
       "        vertical-align: middle;\n",
       "    }\n",
       "\n",
       "    .dataframe tbody tr th {\n",
       "        vertical-align: top;\n",
       "    }\n",
       "\n",
       "    .dataframe thead th {\n",
       "        text-align: right;\n",
       "    }\n",
       "</style>\n",
       "<table border=\"1\" class=\"dataframe\">\n",
       "  <thead>\n",
       "    <tr style=\"text-align: right;\">\n",
       "      <th></th>\n",
       "      <th>Classifier</th>\n",
       "      <th>Validation</th>\n",
       "      <th>Split</th>\n",
       "      <th>Accuracy</th>\n",
       "      <th>Recall (macro)</th>\n",
       "      <th>F1 (macro)</th>\n",
       "      <th>Runtime</th>\n",
       "    </tr>\n",
       "  </thead>\n",
       "  <tbody>\n",
       "    <tr>\n",
       "      <th>0</th>\n",
       "      <td>KNN [5, uniform]</td>\n",
       "      <td>hold-out</td>\n",
       "      <td>0.2</td>\n",
       "      <td>0.900000</td>\n",
       "      <td>0.888889</td>\n",
       "      <td>0.888545</td>\n",
       "      <td>0.004528</td>\n",
       "    </tr>\n",
       "    <tr>\n",
       "      <th>1</th>\n",
       "      <td>KNN [5, uniform]</td>\n",
       "      <td>hold-out</td>\n",
       "      <td>0.3</td>\n",
       "      <td>0.933333</td>\n",
       "      <td>0.931174</td>\n",
       "      <td>0.934359</td>\n",
       "      <td>0.004894</td>\n",
       "    </tr>\n",
       "    <tr>\n",
       "      <th>2</th>\n",
       "      <td>KNN [5, uniform]</td>\n",
       "      <td>hold-out</td>\n",
       "      <td>0.4</td>\n",
       "      <td>0.916667</td>\n",
       "      <td>0.927778</td>\n",
       "      <td>0.924203</td>\n",
       "      <td>0.005664</td>\n",
       "    </tr>\n",
       "    <tr>\n",
       "      <th>3</th>\n",
       "      <td>KNN [5, uniform]</td>\n",
       "      <td>cross</td>\n",
       "      <td>3.0</td>\n",
       "      <td>0.960000</td>\n",
       "      <td>0.959967</td>\n",
       "      <td>0.960136</td>\n",
       "      <td>0.020094</td>\n",
       "    </tr>\n",
       "    <tr>\n",
       "      <th>4</th>\n",
       "      <td>KNN [5, uniform]</td>\n",
       "      <td>cross</td>\n",
       "      <td>5.0</td>\n",
       "      <td>0.960000</td>\n",
       "      <td>0.960000</td>\n",
       "      <td>0.959832</td>\n",
       "      <td>0.027274</td>\n",
       "    </tr>\n",
       "    <tr>\n",
       "      <th>...</th>\n",
       "      <td>...</td>\n",
       "      <td>...</td>\n",
       "      <td>...</td>\n",
       "      <td>...</td>\n",
       "      <td>...</td>\n",
       "      <td>...</td>\n",
       "      <td>...</td>\n",
       "    </tr>\n",
       "    <tr>\n",
       "      <th>181</th>\n",
       "      <td>Random Forest [300, entropy, 5]</td>\n",
       "      <td>hold-out</td>\n",
       "      <td>0.3</td>\n",
       "      <td>0.933333</td>\n",
       "      <td>0.939271</td>\n",
       "      <td>0.935936</td>\n",
       "      <td>0.281775</td>\n",
       "    </tr>\n",
       "    <tr>\n",
       "      <th>182</th>\n",
       "      <td>Random Forest [300, entropy, 5]</td>\n",
       "      <td>hold-out</td>\n",
       "      <td>0.4</td>\n",
       "      <td>0.966667</td>\n",
       "      <td>0.972222</td>\n",
       "      <td>0.969634</td>\n",
       "      <td>0.279167</td>\n",
       "    </tr>\n",
       "    <tr>\n",
       "      <th>183</th>\n",
       "      <td>Random Forest [300, entropy, 5]</td>\n",
       "      <td>cross</td>\n",
       "      <td>3.0</td>\n",
       "      <td>0.960000</td>\n",
       "      <td>0.959559</td>\n",
       "      <td>0.959893</td>\n",
       "      <td>2.347227</td>\n",
       "    </tr>\n",
       "    <tr>\n",
       "      <th>184</th>\n",
       "      <td>Random Forest [300, entropy, 5]</td>\n",
       "      <td>cross</td>\n",
       "      <td>5.0</td>\n",
       "      <td>0.953333</td>\n",
       "      <td>0.953333</td>\n",
       "      <td>0.953115</td>\n",
       "      <td>3.788661</td>\n",
       "    </tr>\n",
       "    <tr>\n",
       "      <th>185</th>\n",
       "      <td>Random Forest [300, entropy, 5]</td>\n",
       "      <td>cross</td>\n",
       "      <td>10.0</td>\n",
       "      <td>0.960000</td>\n",
       "      <td>0.960000</td>\n",
       "      <td>0.959596</td>\n",
       "      <td>7.407650</td>\n",
       "    </tr>\n",
       "  </tbody>\n",
       "</table>\n",
       "<p>186 rows × 7 columns</p>\n",
       "</div>"
      ],
      "text/plain": [
       "                          Classifier Validation  Split  Accuracy  \\\n",
       "0                   KNN [5, uniform]   hold-out    0.2  0.900000   \n",
       "1                   KNN [5, uniform]   hold-out    0.3  0.933333   \n",
       "2                   KNN [5, uniform]   hold-out    0.4  0.916667   \n",
       "3                   KNN [5, uniform]      cross    3.0  0.960000   \n",
       "4                   KNN [5, uniform]      cross    5.0  0.960000   \n",
       "..                               ...        ...    ...       ...   \n",
       "181  Random Forest [300, entropy, 5]   hold-out    0.3  0.933333   \n",
       "182  Random Forest [300, entropy, 5]   hold-out    0.4  0.966667   \n",
       "183  Random Forest [300, entropy, 5]      cross    3.0  0.960000   \n",
       "184  Random Forest [300, entropy, 5]      cross    5.0  0.953333   \n",
       "185  Random Forest [300, entropy, 5]      cross   10.0  0.960000   \n",
       "\n",
       "     Recall (macro)  F1 (macro)   Runtime  \n",
       "0          0.888889    0.888545  0.004528  \n",
       "1          0.931174    0.934359  0.004894  \n",
       "2          0.927778    0.924203  0.005664  \n",
       "3          0.959967    0.960136  0.020094  \n",
       "4          0.960000    0.959832  0.027274  \n",
       "..              ...         ...       ...  \n",
       "181        0.939271    0.935936  0.281775  \n",
       "182        0.972222    0.969634  0.279167  \n",
       "183        0.959559    0.959893  2.347227  \n",
       "184        0.953333    0.953115  3.788661  \n",
       "185        0.960000    0.959596  7.407650  \n",
       "\n",
       "[186 rows x 7 columns]"
      ]
     },
     "execution_count": 28,
     "metadata": {},
     "output_type": "execute_result"
    }
   ],
   "source": [
    "performance_df"
   ]
  },
  {
   "cell_type": "code",
   "execution_count": 29,
   "metadata": {},
   "outputs": [
    {
     "data": {
      "text/html": [
       "<div>\n",
       "<style scoped>\n",
       "    .dataframe tbody tr th:only-of-type {\n",
       "        vertical-align: middle;\n",
       "    }\n",
       "\n",
       "    .dataframe tbody tr th {\n",
       "        vertical-align: top;\n",
       "    }\n",
       "\n",
       "    .dataframe thead th {\n",
       "        text-align: right;\n",
       "    }\n",
       "</style>\n",
       "<table border=\"1\" class=\"dataframe\">\n",
       "  <thead>\n",
       "    <tr style=\"text-align: right;\">\n",
       "      <th></th>\n",
       "      <th>Classifier</th>\n",
       "      <th>Accuracy</th>\n",
       "      <th>Recall (macro)</th>\n",
       "      <th>F1 (macro)</th>\n",
       "    </tr>\n",
       "  </thead>\n",
       "  <tbody>\n",
       "    <tr>\n",
       "      <th>0</th>\n",
       "      <td>KNN [5, uniform]</td>\n",
       "      <td>NaN</td>\n",
       "      <td>NaN</td>\n",
       "      <td>NaN</td>\n",
       "    </tr>\n",
       "    <tr>\n",
       "      <th>1</th>\n",
       "      <td>KNN [5, distance]</td>\n",
       "      <td>1.000000</td>\n",
       "      <td>1.000000</td>\n",
       "      <td>1.000000</td>\n",
       "    </tr>\n",
       "    <tr>\n",
       "      <th>2</th>\n",
       "      <td>KNN [1, uniform]</td>\n",
       "      <td>0.500680</td>\n",
       "      <td>0.495651</td>\n",
       "      <td>0.529347</td>\n",
       "    </tr>\n",
       "    <tr>\n",
       "      <th>3</th>\n",
       "      <td>KNN [1, distance]</td>\n",
       "      <td>0.500680</td>\n",
       "      <td>0.495651</td>\n",
       "      <td>0.529347</td>\n",
       "    </tr>\n",
       "    <tr>\n",
       "      <th>4</th>\n",
       "      <td>KNN [3, uniform]</td>\n",
       "      <td>0.520868</td>\n",
       "      <td>0.562158</td>\n",
       "      <td>0.529656</td>\n",
       "    </tr>\n",
       "    <tr>\n",
       "      <th>5</th>\n",
       "      <td>KNN [3, distance]</td>\n",
       "      <td>0.582570</td>\n",
       "      <td>0.616615</td>\n",
       "      <td>0.584215</td>\n",
       "    </tr>\n",
       "    <tr>\n",
       "      <th>6</th>\n",
       "      <td>KNN [10, uniform]</td>\n",
       "      <td>0.159558</td>\n",
       "      <td>0.162276</td>\n",
       "      <td>0.155012</td>\n",
       "    </tr>\n",
       "    <tr>\n",
       "      <th>7</th>\n",
       "      <td>KNN [10, distance]</td>\n",
       "      <td>0.063817</td>\n",
       "      <td>0.079997</td>\n",
       "      <td>0.070069</td>\n",
       "    </tr>\n",
       "    <tr>\n",
       "      <th>8</th>\n",
       "      <td>KNN [15, uniform]</td>\n",
       "      <td>0.715143</td>\n",
       "      <td>0.734337</td>\n",
       "      <td>0.714845</td>\n",
       "    </tr>\n",
       "    <tr>\n",
       "      <th>9</th>\n",
       "      <td>KNN [15, distance]</td>\n",
       "      <td>1.000000</td>\n",
       "      <td>1.000000</td>\n",
       "      <td>1.000000</td>\n",
       "    </tr>\n",
       "    <tr>\n",
       "      <th>10</th>\n",
       "      <td>Decision Tree [gini, best, none]</td>\n",
       "      <td>NaN</td>\n",
       "      <td>NaN</td>\n",
       "      <td>NaN</td>\n",
       "    </tr>\n",
       "    <tr>\n",
       "      <th>11</th>\n",
       "      <td>Decision Tree [entropy, best, none]</td>\n",
       "      <td>1.000000</td>\n",
       "      <td>1.000000</td>\n",
       "      <td>1.000000</td>\n",
       "    </tr>\n",
       "    <tr>\n",
       "      <th>12</th>\n",
       "      <td>Decision Tree [gini, random, none]</td>\n",
       "      <td>1.000000</td>\n",
       "      <td>0.944783</td>\n",
       "      <td>0.966425</td>\n",
       "    </tr>\n",
       "    <tr>\n",
       "      <th>13</th>\n",
       "      <td>Decision Tree [gini, best, 5]</td>\n",
       "      <td>NaN</td>\n",
       "      <td>NaN</td>\n",
       "      <td>NaN</td>\n",
       "    </tr>\n",
       "    <tr>\n",
       "      <th>14</th>\n",
       "      <td>Decision Tree [entropy, best, 5]</td>\n",
       "      <td>1.000000</td>\n",
       "      <td>1.000000</td>\n",
       "      <td>1.000000</td>\n",
       "    </tr>\n",
       "    <tr>\n",
       "      <th>15</th>\n",
       "      <td>Decision Tree [gini, random, 5]</td>\n",
       "      <td>1.000000</td>\n",
       "      <td>0.933794</td>\n",
       "      <td>0.959951</td>\n",
       "    </tr>\n",
       "    <tr>\n",
       "      <th>16</th>\n",
       "      <td>Decision Tree [gini, best, 10]</td>\n",
       "      <td>NaN</td>\n",
       "      <td>NaN</td>\n",
       "      <td>NaN</td>\n",
       "    </tr>\n",
       "    <tr>\n",
       "      <th>17</th>\n",
       "      <td>Decision Tree [entropy, best, 10]</td>\n",
       "      <td>1.000000</td>\n",
       "      <td>1.000000</td>\n",
       "      <td>1.000000</td>\n",
       "    </tr>\n",
       "    <tr>\n",
       "      <th>18</th>\n",
       "      <td>Decision Tree [gini, random, 10]</td>\n",
       "      <td>1.000000</td>\n",
       "      <td>0.944783</td>\n",
       "      <td>0.966425</td>\n",
       "    </tr>\n",
       "    <tr>\n",
       "      <th>19</th>\n",
       "      <td>Random Forest [100, gini, none]</td>\n",
       "      <td>NaN</td>\n",
       "      <td>NaN</td>\n",
       "      <td>NaN</td>\n",
       "    </tr>\n",
       "    <tr>\n",
       "      <th>20</th>\n",
       "      <td>Random Forest [200, gini, none]</td>\n",
       "      <td>1.000000</td>\n",
       "      <td>1.000000</td>\n",
       "      <td>1.000000</td>\n",
       "    </tr>\n",
       "    <tr>\n",
       "      <th>21</th>\n",
       "      <td>Random Forest [300, gini, none]</td>\n",
       "      <td>1.000000</td>\n",
       "      <td>1.000000</td>\n",
       "      <td>1.000000</td>\n",
       "    </tr>\n",
       "    <tr>\n",
       "      <th>22</th>\n",
       "      <td>Random Forest [100, entropy, none]</td>\n",
       "      <td>1.000000</td>\n",
       "      <td>1.000000</td>\n",
       "      <td>1.000000</td>\n",
       "    </tr>\n",
       "    <tr>\n",
       "      <th>23</th>\n",
       "      <td>Random Forest [200, entropy, none]</td>\n",
       "      <td>1.000000</td>\n",
       "      <td>1.000000</td>\n",
       "      <td>1.000000</td>\n",
       "    </tr>\n",
       "    <tr>\n",
       "      <th>24</th>\n",
       "      <td>Random Forest [300, entropy, none]</td>\n",
       "      <td>1.000000</td>\n",
       "      <td>1.000000</td>\n",
       "      <td>1.000000</td>\n",
       "    </tr>\n",
       "    <tr>\n",
       "      <th>25</th>\n",
       "      <td>Random Forest [100, gini, 5]</td>\n",
       "      <td>NaN</td>\n",
       "      <td>NaN</td>\n",
       "      <td>NaN</td>\n",
       "    </tr>\n",
       "    <tr>\n",
       "      <th>26</th>\n",
       "      <td>Random Forest [200, gini, 5]</td>\n",
       "      <td>1.000000</td>\n",
       "      <td>1.000000</td>\n",
       "      <td>1.000000</td>\n",
       "    </tr>\n",
       "    <tr>\n",
       "      <th>27</th>\n",
       "      <td>Random Forest [300, gini, 5]</td>\n",
       "      <td>1.000000</td>\n",
       "      <td>1.000000</td>\n",
       "      <td>1.000000</td>\n",
       "    </tr>\n",
       "    <tr>\n",
       "      <th>28</th>\n",
       "      <td>Random Forest [100, entropy, 5]</td>\n",
       "      <td>1.000000</td>\n",
       "      <td>1.000000</td>\n",
       "      <td>1.000000</td>\n",
       "    </tr>\n",
       "    <tr>\n",
       "      <th>29</th>\n",
       "      <td>Random Forest [200, entropy, 5]</td>\n",
       "      <td>1.000000</td>\n",
       "      <td>1.000000</td>\n",
       "      <td>1.000000</td>\n",
       "    </tr>\n",
       "    <tr>\n",
       "      <th>30</th>\n",
       "      <td>Random Forest [300, entropy, 5]</td>\n",
       "      <td>1.000000</td>\n",
       "      <td>1.000000</td>\n",
       "      <td>1.000000</td>\n",
       "    </tr>\n",
       "  </tbody>\n",
       "</table>\n",
       "</div>"
      ],
      "text/plain": [
       "                             Classifier  Accuracy  Recall (macro)  F1 (macro)\n",
       "0                      KNN [5, uniform]       NaN             NaN         NaN\n",
       "1                     KNN [5, distance]  1.000000        1.000000    1.000000\n",
       "2                      KNN [1, uniform]  0.500680        0.495651    0.529347\n",
       "3                     KNN [1, distance]  0.500680        0.495651    0.529347\n",
       "4                      KNN [3, uniform]  0.520868        0.562158    0.529656\n",
       "5                     KNN [3, distance]  0.582570        0.616615    0.584215\n",
       "6                     KNN [10, uniform]  0.159558        0.162276    0.155012\n",
       "7                    KNN [10, distance]  0.063817        0.079997    0.070069\n",
       "8                     KNN [15, uniform]  0.715143        0.734337    0.714845\n",
       "9                    KNN [15, distance]  1.000000        1.000000    1.000000\n",
       "10     Decision Tree [gini, best, none]       NaN             NaN         NaN\n",
       "11  Decision Tree [entropy, best, none]  1.000000        1.000000    1.000000\n",
       "12   Decision Tree [gini, random, none]  1.000000        0.944783    0.966425\n",
       "13        Decision Tree [gini, best, 5]       NaN             NaN         NaN\n",
       "14     Decision Tree [entropy, best, 5]  1.000000        1.000000    1.000000\n",
       "15      Decision Tree [gini, random, 5]  1.000000        0.933794    0.959951\n",
       "16       Decision Tree [gini, best, 10]       NaN             NaN         NaN\n",
       "17    Decision Tree [entropy, best, 10]  1.000000        1.000000    1.000000\n",
       "18     Decision Tree [gini, random, 10]  1.000000        0.944783    0.966425\n",
       "19      Random Forest [100, gini, none]       NaN             NaN         NaN\n",
       "20      Random Forest [200, gini, none]  1.000000        1.000000    1.000000\n",
       "21      Random Forest [300, gini, none]  1.000000        1.000000    1.000000\n",
       "22   Random Forest [100, entropy, none]  1.000000        1.000000    1.000000\n",
       "23   Random Forest [200, entropy, none]  1.000000        1.000000    1.000000\n",
       "24   Random Forest [300, entropy, none]  1.000000        1.000000    1.000000\n",
       "25         Random Forest [100, gini, 5]       NaN             NaN         NaN\n",
       "26         Random Forest [200, gini, 5]  1.000000        1.000000    1.000000\n",
       "27         Random Forest [300, gini, 5]  1.000000        1.000000    1.000000\n",
       "28      Random Forest [100, entropy, 5]  1.000000        1.000000    1.000000\n",
       "29      Random Forest [200, entropy, 5]  1.000000        1.000000    1.000000\n",
       "30      Random Forest [300, entropy, 5]  1.000000        1.000000    1.000000"
      ]
     },
     "execution_count": 29,
     "metadata": {},
     "output_type": "execute_result"
    }
   ],
   "source": [
    "significance_df"
   ]
  },
  {
   "cell_type": "code",
   "execution_count": 32,
   "metadata": {},
   "outputs": [
    {
     "ename": "TypeError",
     "evalue": "'<' not supported between instances of 'str' and 'float'",
     "output_type": "error",
     "traceback": [
      "\u001b[1;31m---------------------------------------------------------------------------\u001b[0m",
      "\u001b[1;31mTypeError\u001b[0m                                 Traceback (most recent call last)",
      "\u001b[1;32mC:\\Users\\CHRIST~1\\AppData\\Local\\Temp/ipykernel_11768/2354823611.py\u001b[0m in \u001b[0;36m<module>\u001b[1;34m\u001b[0m\n\u001b[1;32m----> 1\u001b[1;33m \u001b[0msignificance_df\u001b[0m\u001b[1;33m[\u001b[0m\u001b[1;34m\"Accuracy\"\u001b[0m\u001b[1;33m<\u001b[0m\u001b[1;36m0.05\u001b[0m\u001b[1;33m]\u001b[0m\u001b[1;33m\u001b[0m\u001b[1;33m\u001b[0m\u001b[0m\n\u001b[0m",
      "\u001b[1;31mTypeError\u001b[0m: '<' not supported between instances of 'str' and 'float'"
     ]
    }
   ],
   "source": [
    "significance_df[\"Accuracy\"<0.05]"
   ]
  }
 ],
 "metadata": {
  "interpreter": {
   "hash": "08ed10a1276613731008dc950927347abb3e57cb34eda9264fef37959574a2d5"
  },
  "kernelspec": {
   "display_name": "Python 3.9.1 64-bit ('.venv': venv)",
   "name": "python3"
  },
  "language_info": {
   "codemirror_mode": {
    "name": "ipython",
    "version": 3
   },
   "file_extension": ".py",
   "mimetype": "text/x-python",
   "name": "python",
   "nbconvert_exporter": "python",
   "pygments_lexer": "ipython3",
   "version": "3.9.1"
  },
  "orig_nbformat": 4
 },
 "nbformat": 4,
 "nbformat_minor": 2
}
