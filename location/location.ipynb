{
 "cells": [
  {
   "cell_type": "code",
   "execution_count": null,
   "metadata": {},
   "outputs": [],
   "source": [
    "import numpy as np\n",
    "import pandas as pd\n",
    "import matplotlib.pyplot as plt\n",
    "import seaborn as sns\n",
    "\n",
    "from sklearn.model_selection import train_test_split, KFold, cross_val_score, GridSearchCV\n",
    "\n",
    "from sklearn.ensemble import RandomForestClassifier\n",
    "from sklearn.tree import DecisionTreeClassifier\n",
    "from sklearn.linear_model import LogisticRegression\n",
    "from sklearn import neighbors\n",
    "from sklearn import svm\n",
    "\n",
    "import tensorflow as tf\n",
    "from tensorflow import keras\n",
    "from tensorflow.keras import layers"
   ]
  },
  {
   "cell_type": "code",
   "execution_count": null,
   "metadata": {},
   "outputs": [],
   "source": [
    "import warnings\n",
    "warnings.filterwarnings(\"ignore\")"
   ]
  },
  {
   "cell_type": "markdown",
   "metadata": {},
   "source": [
    "# Data"
   ]
  },
  {
   "cell_type": "code",
   "execution_count": null,
   "metadata": {},
   "outputs": [],
   "source": [
    "train = pd.read_csv(\"location_train.csv\")\n",
    "test = pd.read_csv(\"location_test.csv\")\n",
    "train.head()"
   ]
  },
  {
   "cell_type": "code",
   "execution_count": null,
   "metadata": {},
   "outputs": [],
   "source": [
    "train.info()"
   ]
  },
  {
   "cell_type": "code",
   "execution_count": null,
   "metadata": {},
   "outputs": [],
   "source": [
    "X = train.drop([\"ID\", \"class\"], axis=1)\n",
    "y = train[\"class\"]\n",
    "\n",
    "X_test = test.drop([\"ID\"], axis=1)"
   ]
  },
  {
   "cell_type": "code",
   "execution_count": null,
   "metadata": {},
   "outputs": [],
   "source": [
    "X.head()"
   ]
  },
  {
   "cell_type": "code",
   "execution_count": null,
   "metadata": {},
   "outputs": [],
   "source": [
    "y.head()"
   ]
  },
  {
   "cell_type": "markdown",
   "metadata": {},
   "source": [
    "# Exploratory data analysis"
   ]
  },
  {
   "cell_type": "code",
   "execution_count": null,
   "metadata": {},
   "outputs": [],
   "source": [
    "X.isnull().sum()"
   ]
  },
  {
   "cell_type": "code",
   "execution_count": null,
   "metadata": {},
   "outputs": [],
   "source": [
    "# Appearence of each class\n",
    "y.value_counts().sort_index()"
   ]
  },
  {
   "cell_type": "markdown",
   "metadata": {},
   "source": [
    "# Model selection"
   ]
  },
  {
   "cell_type": "code",
   "execution_count": null,
   "metadata": {},
   "outputs": [],
   "source": [
    "cv = 5\n",
    "verbose = 1"
   ]
  },
  {
   "cell_type": "markdown",
   "metadata": {},
   "source": [
    "## KNN"
   ]
  },
  {
   "cell_type": "code",
   "execution_count": null,
   "metadata": {},
   "outputs": [],
   "source": [
    "parameters = {\n",
    "    \"n_neighbors\":[1, 5, 10, 20, 30, 40, 50], \n",
    "    \"weights\":[\"uniform\", \"distance\"],\n",
    "    \"metric\":[\"euclidean\", \"manhattan\", \"chebyshev\", \"minkowski\", \"wminkowski\", \"seuclidean\", \"mahalanobis\"]}\n",
    "knn = GridSearchCV(neighbors.KNeighborsClassifier(), parameters, cv=cv, verbose=verbose)\n",
    "knn.fit(X, y)"
   ]
  },
  {
   "cell_type": "code",
   "execution_count": null,
   "metadata": {},
   "outputs": [],
   "source": [
    "knn_results = pd.DataFrame(knn.cv_results_)\n",
    "knn_results= knn_results[[\"param_n_neighbors\", \"param_weights\", \"param_metric\", \"mean_test_score\"]]\n",
    "knn_results.sort_values([\"mean_test_score\"], ascending=False).head(10)"
   ]
  },
  {
   "cell_type": "markdown",
   "metadata": {},
   "source": [
    "## Decision Tree"
   ]
  },
  {
   "cell_type": "code",
   "execution_count": null,
   "metadata": {},
   "outputs": [],
   "source": [
    "parameters = {\n",
    "    \"criterion\":[\"gini\", \"entropy\"],\n",
    "    \"splitter\":[\"best\", \"random\"], \n",
    "    \"max_depth\":[\"None\", 5, 10, 20, 30],\n",
    "    \"max_features\":[\"auto\", \"sqrt\", \"log2\"]}\n",
    "dt = GridSearchCV(DecisionTreeClassifier(), parameters, cv=cv, verbose=verbose)\n",
    "dt.fit(X, y)"
   ]
  },
  {
   "cell_type": "code",
   "execution_count": null,
   "metadata": {},
   "outputs": [],
   "source": [
    "dt_results = pd.DataFrame(dt.cv_results_)\n",
    "dt_results = dt_results[[\"param_criterion\", \"param_splitter\", \"param_max_depth\", \"param_max_features\", \"mean_test_score\"]]\n",
    "dt_results.sort_values([\"mean_test_score\"], ascending=False).head(10)"
   ]
  },
  {
   "cell_type": "markdown",
   "metadata": {},
   "source": [
    "## Random Forest"
   ]
  },
  {
   "cell_type": "code",
   "execution_count": null,
   "metadata": {},
   "outputs": [],
   "source": [
    "parameters = {\n",
    "    \"n_estimators\":[10, 50, 100, 200, 300, 400, 500], \n",
    "    \"criterion\":[\"gini\", \"entropy\"], \n",
    "    \"max_depth\":[\"None\", 5, 10, 20],\n",
    "    \"max_features\":[\"auto\", \"sqrt\", \"log2\"]}\n",
    "rf = GridSearchCV(RandomForestClassifier(), parameters, cv=cv, verbose=verbose)\n",
    "rf.fit(X, y)"
   ]
  },
  {
   "cell_type": "code",
   "execution_count": null,
   "metadata": {},
   "outputs": [],
   "source": [
    "rf_results = pd.DataFrame(rf.cv_results_)\n",
    "rf_results = rf_results[[\"param_n_estimators\", \"param_criterion\", \"param_max_depth\", \"param_max_features\", \"mean_test_score\"]]\n",
    "rf_results.sort_values([\"mean_test_score\"], ascending=False).head(10)"
   ]
  },
  {
   "cell_type": "markdown",
   "metadata": {},
   "source": [
    "## SVM"
   ]
  },
  {
   "cell_type": "code",
   "execution_count": null,
   "metadata": {},
   "outputs": [],
   "source": [
    "parameters = {\n",
    "    \"C\":[1, 5, 10, 20],\n",
    "    \"kernel\":[\"linear\", \"sigmoid\", \"rbf\", \"poly\"],     \n",
    "    \"degree\":[3, 5],\n",
    "    \"gamma\":[\"scale\", \"auto\"],\n",
    "    \"class_weight\":[\"None\", \"balanced\"]}\n",
    "svm = GridSearchCV(svm.SVC(), parameters, cv=cv, verbose=verbose)\n",
    "svm.fit(X, y)"
   ]
  },
  {
   "cell_type": "code",
   "execution_count": null,
   "metadata": {},
   "outputs": [],
   "source": [
    "svm_results = pd.DataFrame(svm.cv_results_)\n",
    "svm_results = svm_results[[\"param_C\", \"param_kernel\", \"param_degree\", \"param_gamma\", \"param_class_weight\", \"mean_test_score\"]]\n",
    "svm_results.sort_values([\"mean_test_score\"], ascending=False).head(10)"
   ]
  },
  {
   "cell_type": "markdown",
   "metadata": {},
   "source": [
    "## Logistic Regression"
   ]
  },
  {
   "cell_type": "code",
   "execution_count": null,
   "metadata": {},
   "outputs": [],
   "source": [
    "parameters = {\n",
    "    \"penalty\":[\"l1\", \"l2\", \"elasticnet\", \"none\"], \n",
    "    \"C\":[1, 5, 10, 20],\n",
    "    \"class_weight\":[\"None\", \"balanced\"],\n",
    "    \"solver\":[\"saga\"]}\n",
    "logreg = GridSearchCV(LogisticRegression(), parameters, cv=cv, verbose=verbose)\n",
    "logreg.fit(X, y)"
   ]
  },
  {
   "cell_type": "code",
   "execution_count": null,
   "metadata": {},
   "outputs": [],
   "source": [
    "logreg_results = pd.DataFrame(logreg.cv_results_)\n",
    "logreg_results = logreg_results[[\"param_penalty\", \"param_C\", \"param_class_weight\", \"mean_test_score\"]]\n",
    "logreg_results.sort_values([\"mean_test_score\"], ascending=False).head(10)"
   ]
  },
  {
   "cell_type": "markdown",
   "metadata": {},
   "source": [
    "# Results"
   ]
  },
  {
   "cell_type": "code",
   "execution_count": null,
   "metadata": {},
   "outputs": [],
   "source": [
    "print(knn_results.sort_values([\"mean_test_score\"], ascending=False).head(20).to_markdown(index=False))"
   ]
  },
  {
   "cell_type": "code",
   "execution_count": null,
   "metadata": {},
   "outputs": [],
   "source": [
    "print(dt_results.sort_values([\"mean_test_score\"], ascending=False).head(20).to_markdown(index=False))"
   ]
  },
  {
   "cell_type": "code",
   "execution_count": null,
   "metadata": {},
   "outputs": [],
   "source": [
    "print(rf_results.sort_values([\"mean_test_score\"], ascending=False).head(20).to_markdown(index=False))"
   ]
  },
  {
   "cell_type": "code",
   "execution_count": null,
   "metadata": {},
   "outputs": [],
   "source": [
    "print(svm_results.sort_values([\"mean_test_score\"], ascending=False).head(20).to_markdown(index=False))"
   ]
  },
  {
   "cell_type": "code",
   "execution_count": null,
   "metadata": {},
   "outputs": [],
   "source": [
    "print(logreg_results.sort_values([\"mean_test_score\"], ascending=False).head(20).to_markdown(index=False))"
   ]
  },
  {
   "cell_type": "markdown",
   "metadata": {},
   "source": [
    "# Final model"
   ]
  },
  {
   "cell_type": "code",
   "execution_count": null,
   "metadata": {},
   "outputs": [],
   "source": [
    "model = svm.SVC(C=5, kernel=\"rbf\", gamma=\"scale\")\n",
    "model.fit(X, y)"
   ]
  },
  {
   "cell_type": "code",
   "execution_count": null,
   "metadata": {},
   "outputs": [],
   "source": [
    "predictions = pd.DataFrame(test[\"ID\"])\n",
    "predictions[\"class\"] = model.predict(X_test)"
   ]
  },
  {
   "cell_type": "code",
   "execution_count": null,
   "metadata": {},
   "outputs": [],
   "source": [
    "predictions.to_csv(\"submission.csv\", index=False)"
   ]
  }
 ],
 "metadata": {
  "interpreter": {
   "hash": "08ed10a1276613731008dc950927347abb3e57cb34eda9264fef37959574a2d5"
  },
  "kernelspec": {
   "display_name": "Python 3.9.1 64-bit ('.venv': venv)",
   "name": "python3"
  },
  "language_info": {
   "codemirror_mode": {
    "name": "ipython",
    "version": 3
   },
   "file_extension": ".py",
   "mimetype": "text/x-python",
   "name": "python",
   "nbconvert_exporter": "python",
   "pygments_lexer": "ipython3",
   "version": "3.9.1"
  },
  "orig_nbformat": 4
 },
 "nbformat": 4,
 "nbformat_minor": 2
}
